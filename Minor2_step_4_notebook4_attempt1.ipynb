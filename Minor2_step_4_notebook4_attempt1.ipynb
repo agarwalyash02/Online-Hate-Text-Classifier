{
  "nbformat": 4,
  "nbformat_minor": 0,
  "metadata": {
    "colab": {
      "name": "Minor2_step_4_notebook4_attempt1.ipynb",
      "provenance": [],
      "collapsed_sections": []
    },
    "kernelspec": {
      "display_name": "Python 3",
      "name": "python3"
    },
    "language_info": {
      "name": "python"
    },
    "accelerator": "GPU"
  },
  "cells": [
    {
      "cell_type": "code",
      "metadata": {
        "id": "TFng_jdHbxbi"
      },
      "source": [
        "import pickle\n",
        "from keras.preprocessing.sequence import pad_sequences\n",
        "from keras.utils import to_categorical\n",
        "import numpy as np\n",
        "from sklearn.metrics import accuracy_score\n",
        "import re\n",
        "import pickle\n",
        "import nltk.corpus\n",
        "from nltk import tokenize\n",
        "from nltk.tokenize import sent_tokenize,word_tokenize\n",
        "from nltk.corpus import stopwords\n",
        "from nltk.stem import WordNetLemmatizer\n",
        "from nltk import tokenize\n",
        "from sklearn.metrics import accuracy_score, f1_score, confusion_matrix\n",
        "import seaborn as sns\n",
        "import matplotlib.pyplot as plt\n",
        "plt.style.use('fivethirtyeight')"
      ],
      "execution_count": null,
      "outputs": []
    },
    {
      "cell_type": "code",
      "metadata": {
        "id": "HeR_gO9KcE66"
      },
      "source": [
        "with open(\"/content/drive/MyDrive/Minor Project 2/data files4/word_to_idx.pkl\",\"rb\") as w2i:\n",
        "    word_to_idx=pickle.load(w2i)\n",
        "with open(\"/content/drive/MyDrive/Minor Project 2/data files4/idx_to_word.pkl\",\"rb\") as i2w:\n",
        "    idx_to_word=pickle.load(i2w)\n",
        "with open(\"/content/drive/MyDrive/Minor Project 2/data files4/embedding_matrix.pkl\",\"rb\") as em:\n",
        "    embedding_matrix=pickle.load(em)\n",
        "with open(\"/content/drive/MyDrive/Minor Project 2/data files4/x_train.pkl\",\"rb\") as tfi:\n",
        "    x_train=pickle.load(tfi)\n",
        "with open(\"/content/drive/MyDrive/Minor Project 2/data files4/y_train.pkl\",\"rb\") as tds:\n",
        "    y_train=pickle.load(tds)"
      ],
      "execution_count": null,
      "outputs": []
    },
    {
      "cell_type": "code",
      "metadata": {
        "colab": {
          "base_uri": "https://localhost:8080/"
        },
        "id": "gi1sE0rPgGjp",
        "outputId": "0645593d-d7ab-4fc9-9a57-04a0da165465"
      },
      "source": [
        "max_len = 0\n",
        "for cap in x_train:\n",
        "    max_len = max(max_len,len(cap.split()))\n",
        "print(max_len)"
      ],
      "execution_count": null,
      "outputs": [
        {
          "output_type": "stream",
          "text": [
            "40\n"
          ],
          "name": "stdout"
        }
      ]
    },
    {
      "cell_type": "code",
      "metadata": {
        "colab": {
          "base_uri": "https://localhost:8080/"
        },
        "id": "D8yaHsapL8dk",
        "outputId": "18da9235-68b2-421b-d5da-c8e7dbae6da0"
      },
      "source": [
        "x_train[:2]"
      ],
      "execution_count": null,
      "outputs": [
        {
          "output_type": "execute_result",
          "data": {
            "text/plain": [
              "array(['wikipedia manual style capital letters military terms referring initial letter capitalization therefore relevant allcaps discussion',\n",
              "       'provide professional critics reviews'], dtype='<U4993')"
            ]
          },
          "metadata": {
            "tags": []
          },
          "execution_count": 4
        }
      ]
    },
    {
      "cell_type": "code",
      "metadata": {
        "colab": {
          "base_uri": "https://localhost:8080/"
        },
        "id": "8x7Q7x6g2iv0",
        "outputId": "971b27a6-36d5-4a63-b2b3-687a8b9fc8be"
      },
      "source": [
        "nltk.download('stopwords')\n",
        "nltk.download('wordnet')\n",
        "nltk.download('punkt')"
      ],
      "execution_count": null,
      "outputs": [
        {
          "output_type": "stream",
          "text": [
            "[nltk_data] Downloading package stopwords to /root/nltk_data...\n",
            "[nltk_data]   Unzipping corpora/stopwords.zip.\n",
            "[nltk_data] Downloading package wordnet to /root/nltk_data...\n",
            "[nltk_data]   Unzipping corpora/wordnet.zip.\n",
            "[nltk_data] Downloading package punkt to /root/nltk_data...\n",
            "[nltk_data]   Unzipping tokenizers/punkt.zip.\n"
          ],
          "name": "stdout"
        },
        {
          "output_type": "execute_result",
          "data": {
            "text/plain": [
              "True"
            ]
          },
          "metadata": {
            "tags": []
          },
          "execution_count": 5
        }
      ]
    },
    {
      "cell_type": "code",
      "metadata": {
        "id": "Xt8k2Qcl2DKa"
      },
      "source": [
        "sw = set(stopwords.words(\"english\"))\n",
        "\n",
        "# remove stop words\n",
        "def filter_words(word_list):\n",
        "    useful_words = [ w for w in word_list if w not in sw ]\n",
        "    return(useful_words)\n",
        "\n",
        "def preprocess_data(dataset):\n",
        "    data = dataset.copy()\n",
        "    t = []\n",
        "    for i in data:\n",
        "        sentence = str(i)\n",
        "        sentence = sentence.lower()\n",
        "        sentence = re.sub(r'@\\w+ | http | #\\w+', '', sentence)\n",
        "        t.append(sentence)\n",
        "\n",
        "\n",
        "    #Removing punctuations, special characters and lemmatizing words to their base form\n",
        "    val = [''.join([WordNetLemmatizer().lemmatize(re.sub('[^A-Za-z]',' ',text)) for text in lis]) for lis in t]\n",
        "    \n",
        "    a=[]\n",
        "    for text in val:\n",
        "        word_list = word_tokenize(text)\n",
        "        text=filter_words(word_list)\n",
        "        a.append(text)  \n",
        "    \n",
        "    train_text = []\n",
        "    for i in a:\n",
        "      train_text.append(' '.join(i))\n",
        "\n",
        "    return train_text"
      ],
      "execution_count": null,
      "outputs": []
    },
    {
      "cell_type": "code",
      "metadata": {
        "colab": {
          "base_uri": "https://localhost:8080/"
        },
        "id": "tYc4IF32f8LD",
        "outputId": "35ad4480-7e30-4472-fcd9-6f19536a8fcc"
      },
      "source": [
        "def data_generator(x):\n",
        "  x_array = []\n",
        "  for desc in x:\n",
        "    seq = [word_to_idx[word] for word in desc.split() if word in word_to_idx]\n",
        "    xi = pad_sequences([seq],maxlen=max_len,value=0,padding='post')[0]\n",
        "    x_array.append(xi)\n",
        "  return x_array\n",
        "x_arr = data_generator(x_train)\n",
        "x_arr = np.array(x_arr)\n",
        "y_arr = np.array(y_train)\n",
        "y_arr = y_arr.reshape((y_arr.shape[0],1))\n",
        "y_arr.shape"
      ],
      "execution_count": null,
      "outputs": [
        {
          "output_type": "execute_result",
          "data": {
            "text/plain": [
              "(134951, 1)"
            ]
          },
          "metadata": {
            "tags": []
          },
          "execution_count": 7
        }
      ]
    },
    {
      "cell_type": "code",
      "metadata": {
        "colab": {
          "base_uri": "https://localhost:8080/"
        },
        "id": "6G20dj2ZgKWs",
        "outputId": "8ca53207-0d9a-4b5a-e14f-9442fcfdb8dc"
      },
      "source": [
        "vocab_size = embedding_matrix.shape[0]\n",
        "emb_dim = embedding_matrix.shape[1]\n",
        "print(vocab_size,emb_dim)\n",
        "print(max_len)"
      ],
      "execution_count": null,
      "outputs": [
        {
          "output_type": "stream",
          "text": [
            "12849 300\n",
            "40\n"
          ],
          "name": "stdout"
        }
      ]
    },
    {
      "cell_type": "code",
      "metadata": {
        "id": "aDb3kqbEdADM"
      },
      "source": [
        "from keras.models import load_model"
      ],
      "execution_count": null,
      "outputs": []
    },
    {
      "cell_type": "code",
      "metadata": {
        "id": "5l1DW-CLdwNp",
        "colab": {
          "base_uri": "https://localhost:8080/"
        },
        "outputId": "300e923c-4ff0-4659-9fc0-930c9721f93d"
      },
      "source": [
        "models = load_model('/content/drive/MyDrive/Minor Project 2/data files4/model1/new_model_03')"
      ],
      "execution_count": null,
      "outputs": [
        {
          "output_type": "stream",
          "text": [
            "WARNING:tensorflow:Layer lstm will not use cuDNN kernel since it doesn't meet the cuDNN kernel criteria. It will use generic GPU kernel as fallback when running on GPU\n",
            "WARNING:tensorflow:Layer lstm_1 will not use cuDNN kernel since it doesn't meet the cuDNN kernel criteria. It will use generic GPU kernel as fallback when running on GPU\n",
            "WARNING:tensorflow:Layer lstm_2 will not use cuDNN kernel since it doesn't meet the cuDNN kernel criteria. It will use generic GPU kernel as fallback when running on GPU\n"
          ],
          "name": "stdout"
        }
      ]
    },
    {
      "cell_type": "code",
      "metadata": {
        "colab": {
          "base_uri": "https://localhost:8080/"
        },
        "id": "__4c5yykfZeV",
        "outputId": "92669e42-989d-4ef0-9cd5-09996145a160"
      },
      "source": [
        "models.summary()"
      ],
      "execution_count": null,
      "outputs": [
        {
          "output_type": "stream",
          "text": [
            "Model: \"sequential\"\n",
            "_________________________________________________________________\n",
            "Layer (type)                 Output Shape              Param #   \n",
            "=================================================================\n",
            "embedding (Embedding)        (None, 40, 300)           3854700   \n",
            "_________________________________________________________________\n",
            "dropout (Dropout)            (None, 40, 300)           0         \n",
            "_________________________________________________________________\n",
            "lstm (LSTM)                  (None, 40, 256)           570368    \n",
            "_________________________________________________________________\n",
            "dropout_1 (Dropout)          (None, 40, 256)           0         \n",
            "_________________________________________________________________\n",
            "lstm_1 (LSTM)                (None, 40, 128)           197120    \n",
            "_________________________________________________________________\n",
            "dropout_2 (Dropout)          (None, 40, 128)           0         \n",
            "_________________________________________________________________\n",
            "attention (attention)        (None, 40, 128)           168       \n",
            "_________________________________________________________________\n",
            "lstm_2 (LSTM)                (None, 128)               131584    \n",
            "_________________________________________________________________\n",
            "dropout_3 (Dropout)          (None, 128)               0         \n",
            "_________________________________________________________________\n",
            "dense (Dense)                (None, 128)               16512     \n",
            "_________________________________________________________________\n",
            "dropout_4 (Dropout)          (None, 128)               0         \n",
            "_________________________________________________________________\n",
            "dense_1 (Dense)              (None, 64)                8256      \n",
            "_________________________________________________________________\n",
            "dense_2 (Dense)              (None, 1)                 65        \n",
            "=================================================================\n",
            "Total params: 4,778,773\n",
            "Trainable params: 4,778,773\n",
            "Non-trainable params: 0\n",
            "_________________________________________________________________\n"
          ],
          "name": "stdout"
        }
      ]
    },
    {
      "cell_type": "code",
      "metadata": {
        "id": "J1x9x6FTM2nU"
      },
      "source": [
        "test = [\"Hey you bitch where are you from\",\n",
        "        \"this is beautiful scene\",\n",
        "        \"get lost from here i dont need your presence you are a idiot human\",\n",
        "        \"i want your presence it make me feel happy staying with you\",\n",
        "        \"you are very cute and innocent person\",\n",
        "        \"india is great country with much excellent mind borned\",\n",
        "        \"this is worst country terrorist is born\",\n",
        "        \"you are a very idiot\",\n",
        "        \"You must die as a evil person bitch\",\n",
        "        \"you are a very nice person time pass so quick with you\",\n",
        "        \"you are a very worst person i ever meet in my life\",\n",
        "        \"maybe you should hang yourself\"]\n",
        "test_clean = preprocess_data(test)\n",
        "test_arr = data_generator(test_clean)\n",
        "test_arr = np.array(test_arr)"
      ],
      "execution_count": null,
      "outputs": []
    },
    {
      "cell_type": "code",
      "metadata": {
        "colab": {
          "base_uri": "https://localhost:8080/"
        },
        "id": "Jl_fqBfOKnys",
        "outputId": "b30674af-ccd2-4ec8-8ece-dfa340fb594e"
      },
      "source": [
        "models.predict_classes(x=test_arr)"
      ],
      "execution_count": null,
      "outputs": [
        {
          "output_type": "stream",
          "text": [
            "/usr/local/lib/python3.7/dist-packages/tensorflow/python/keras/engine/sequential.py:450: UserWarning: `model.predict_classes()` is deprecated and will be removed after 2021-01-01. Please use instead:* `np.argmax(model.predict(x), axis=-1)`,   if your model does multi-class classification   (e.g. if it uses a `softmax` last-layer activation).* `(model.predict(x) > 0.5).astype(\"int32\")`,   if your model does binary classification   (e.g. if it uses a `sigmoid` last-layer activation).\n",
            "  warnings.warn('`model.predict_classes()` is deprecated and '\n"
          ],
          "name": "stderr"
        },
        {
          "output_type": "execute_result",
          "data": {
            "text/plain": [
              "array([[1],\n",
              "       [0],\n",
              "       [1],\n",
              "       [0],\n",
              "       [0],\n",
              "       [0],\n",
              "       [1],\n",
              "       [1],\n",
              "       [1],\n",
              "       [0],\n",
              "       [1],\n",
              "       [0]], dtype=int32)"
            ]
          },
          "metadata": {
            "tags": []
          },
          "execution_count": 13
        }
      ]
    },
    {
      "cell_type": "code",
      "metadata": {
        "colab": {
          "base_uri": "https://localhost:8080/"
        },
        "id": "4WLrMcKXtASI",
        "outputId": "c5f8029c-503c-4531-ab2a-f5557808e404"
      },
      "source": [
        "models.predict(x=test_arr)"
      ],
      "execution_count": null,
      "outputs": [
        {
          "output_type": "execute_result",
          "data": {
            "text/plain": [
              "array([[0.99326915],\n",
              "       [0.0045572 ],\n",
              "       [0.99245185],\n",
              "       [0.00758443],\n",
              "       [0.00475439],\n",
              "       [0.00485262],\n",
              "       [0.96582085],\n",
              "       [0.9953858 ],\n",
              "       [0.99490696],\n",
              "       [0.06445228],\n",
              "       [0.9663981 ],\n",
              "       [0.13720192]], dtype=float32)"
            ]
          },
          "metadata": {
            "tags": []
          },
          "execution_count": 23
        }
      ]
    },
    {
      "cell_type": "code",
      "metadata": {
        "id": "-0ePruJiuM9b"
      },
      "source": [
        "b = \"{:.2f}\".format(a[0][0]*100)"
      ],
      "execution_count": null,
      "outputs": []
    },
    {
      "cell_type": "code",
      "metadata": {
        "colab": {
          "base_uri": "https://localhost:8080/"
        },
        "id": "OASn1NQquWBu",
        "outputId": "8a165e81-fd29-4134-ad94-54db51dc42f5"
      },
      "source": [
        "100 - float(b)"
      ],
      "execution_count": null,
      "outputs": [
        {
          "output_type": "execute_result",
          "data": {
            "text/plain": [
              "0.6700000000000017"
            ]
          },
          "metadata": {
            "tags": []
          },
          "execution_count": 34
        }
      ]
    },
    {
      "cell_type": "code",
      "metadata": {
        "colab": {
          "base_uri": "https://localhost:8080/"
        },
        "id": "iF9ar-vBtb2p",
        "outputId": "b6eeb13e-9458-4dda-b5cf-cdcc193d162c"
      },
      "source": [
        "float(a[0][0]*100)"
      ],
      "execution_count": null,
      "outputs": [
        {
          "output_type": "execute_result",
          "data": {
            "text/plain": [
              "99.3269145488739"
            ]
          },
          "metadata": {
            "tags": []
          },
          "execution_count": 24
        }
      ]
    },
    {
      "cell_type": "code",
      "metadata": {
        "colab": {
          "base_uri": "https://localhost:8080/"
        },
        "id": "YB89y5hIsOaX",
        "outputId": "778c7599-9c8d-40b6-8a59-8b788bb2384a"
      },
      "source": [
        "x_arr.shape"
      ],
      "execution_count": null,
      "outputs": [
        {
          "output_type": "execute_result",
          "data": {
            "text/plain": [
              "(134951, 40)"
            ]
          },
          "metadata": {
            "tags": []
          },
          "execution_count": 55
        }
      ]
    },
    {
      "cell_type": "code",
      "metadata": {
        "colab": {
          "base_uri": "https://localhost:8080/"
        },
        "id": "_hQF-43XfcTo",
        "outputId": "829a7322-7e36-442e-8fde-a9b715226330"
      },
      "source": [
        "y_pred = models.predict_classes(x=x_arr)"
      ],
      "execution_count": null,
      "outputs": [
        {
          "output_type": "stream",
          "text": [
            "/usr/local/lib/python3.7/dist-packages/tensorflow/python/keras/engine/sequential.py:450: UserWarning: `model.predict_classes()` is deprecated and will be removed after 2021-01-01. Please use instead:* `np.argmax(model.predict(x), axis=-1)`,   if your model does multi-class classification   (e.g. if it uses a `softmax` last-layer activation).* `(model.predict(x) > 0.5).astype(\"int32\")`,   if your model does binary classification   (e.g. if it uses a `sigmoid` last-layer activation).\n",
            "  warnings.warn('`model.predict_classes()` is deprecated and '\n"
          ],
          "name": "stderr"
        }
      ]
    },
    {
      "cell_type": "code",
      "metadata": {
        "id": "gQ5UbEvusQ8t",
        "colab": {
          "base_uri": "https://localhost:8080/"
        },
        "outputId": "14bb770a-5ca4-4cc9-c5e2-6c27fffa3a8b"
      },
      "source": [
        "y_pred.shape"
      ],
      "execution_count": null,
      "outputs": [
        {
          "output_type": "execute_result",
          "data": {
            "text/plain": [
              "(134951, 1)"
            ]
          },
          "metadata": {
            "tags": []
          },
          "execution_count": 15
        }
      ]
    },
    {
      "cell_type": "code",
      "metadata": {
        "id": "88MfLjrQge1Z",
        "colab": {
          "base_uri": "https://localhost:8080/"
        },
        "outputId": "da70e145-7733-4c04-8c34-062117e6b337"
      },
      "source": [
        "print(np.unique(y_pred, return_counts=True))"
      ],
      "execution_count": null,
      "outputs": [
        {
          "output_type": "stream",
          "text": [
            "(array([0, 1], dtype=int32), array([107337,  27614]))\n"
          ],
          "name": "stdout"
        }
      ]
    },
    {
      "cell_type": "code",
      "metadata": {
        "id": "TZwgj-B8gPuJ",
        "colab": {
          "base_uri": "https://localhost:8080/"
        },
        "outputId": "814ea508-a857-4035-ad3d-3fefbff611f8"
      },
      "source": [
        "\n",
        "print(np.unique(y_arr, return_counts=True))"
      ],
      "execution_count": null,
      "outputs": [
        {
          "output_type": "stream",
          "text": [
            "(array([0, 1]), array([108595,  26356]))\n"
          ],
          "name": "stdout"
        }
      ]
    },
    {
      "cell_type": "code",
      "metadata": {
        "id": "QplP672pM3ha",
        "colab": {
          "base_uri": "https://localhost:8080/"
        },
        "outputId": "ebabb3e3-9779-4627-8bdd-7bf43fe7e088"
      },
      "source": [
        "from sklearn.metrics import confusion_matrix\n",
        "confusion_matrix(y_arr, y_pred)"
      ],
      "execution_count": null,
      "outputs": [
        {
          "output_type": "execute_result",
          "data": {
            "text/plain": [
              "array([[105887,   2708],\n",
              "       [  1450,  24906]])"
            ]
          },
          "metadata": {
            "tags": []
          },
          "execution_count": 19
        }
      ]
    },
    {
      "cell_type": "code",
      "metadata": {
        "id": "hMHuCvTphje2",
        "colab": {
          "base_uri": "https://localhost:8080/"
        },
        "outputId": "be363635-cae4-4622-9b03-8b110189a749"
      },
      "source": [
        "accuracy_score(y_arr, y_pred)"
      ],
      "execution_count": null,
      "outputs": [
        {
          "output_type": "execute_result",
          "data": {
            "text/plain": [
              "0.9691888166816104"
            ]
          },
          "metadata": {
            "tags": []
          },
          "execution_count": 18
        }
      ]
    },
    {
      "cell_type": "code",
      "metadata": {
        "id": "X62DPFrMMh4N",
        "colab": {
          "base_uri": "https://localhost:8080/"
        },
        "outputId": "c021a83d-1e10-41fa-d6ca-39607d30052e"
      },
      "source": [
        "from sklearn.metrics import f1_score\n",
        "f1_score(y_arr,y_pred)"
      ],
      "execution_count": null,
      "outputs": [
        {
          "output_type": "execute_result",
          "data": {
            "text/plain": [
              "0.9229571984435798"
            ]
          },
          "metadata": {
            "tags": []
          },
          "execution_count": 20
        }
      ]
    },
    {
      "cell_type": "code",
      "metadata": {
        "colab": {
          "base_uri": "https://localhost:8080/",
          "height": 296
        },
        "id": "cZox8kP6Li1U",
        "outputId": "6c3e8616-f68a-4d23-e15a-a58da74a2a86"
      },
      "source": [
        "cm = confusion_matrix(y_arr, y_pred)\n",
        "fig = sns.heatmap(cm, annot=True, fmt=\"d\")\n",
        "plt.title(\"Confusion Matrix\")\n",
        "plt.xlabel(\"Predicted Label\")\n",
        "plt.ylabel(\"Actual Label\")\n",
        "plt.show(fig)"
      ],
      "execution_count": null,
      "outputs": [
        {
          "output_type": "display_data",
          "data": {
            "image/png": "[encoded data removed]",
            "text/plain": [
              "<Figure size 432x288 with 2 Axes>"
            ]
          },
          "metadata": {
            "tags": [],
            "needs_background": "light"
          }
        }
      ]
    },
    {
      "cell_type": "code",
      "metadata": {
        "id": "G9xNIWuYAIXo"
      },
      "source": [
        ""
      ],
      "execution_count": null,
      "outputs": []
    }
  ]
}