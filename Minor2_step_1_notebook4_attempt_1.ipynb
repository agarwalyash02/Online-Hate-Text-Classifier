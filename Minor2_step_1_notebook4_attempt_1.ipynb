{
  "nbformat": 4,
  "nbformat_minor": 0,
  "metadata": {
    "colab": {
      "name": "Minor2_step_1_notebook4_attempt_1",
      "provenance": [],
      "collapsed_sections": []
    },
    "kernelspec": {
      "name": "python3",
      "display_name": "Python 3"
    }
  },
  "cells": [
    {
      "cell_type": "code",
      "metadata": {
        "id": "x5XIZlTX0AiY"
      },
      "source": [
        "import pandas as pd\n",
        "import matplotlib.pyplot as plt\n",
        "import numpy as np\n",
        "import re\n",
        "import pickle\n",
        "import nltk.corpus\n",
        "from nltk.stem import WordNetLemmatizer\n",
        "from nltk import tokenize\n",
        "from nltk.tokenize import sent_tokenize,word_tokenize\n",
        "from nltk.corpus import stopwords\n",
        "from nltk.stem import WordNetLemmatizer\n",
        "from nltk import tokenize\n",
        "\n",
        "from sklearn.utils import shuffle"
      ],
      "execution_count": null,
      "outputs": []
    },
    {
      "cell_type": "code",
      "metadata": {
        "id": "JRL7FTxLzEXG"
      },
      "source": [
        "train_1=pd.read_csv(\"/content/drive/MyDrive/Minor Project 2/toxic_train.csv\")\n",
        "train_1.drop(['Unnamed: 0'],axis='columns',inplace=True)\n",
        "train_1 = train_1.rename(columns={'toxic': 'label','comment_text':'tweet'})"
      ],
      "execution_count": null,
      "outputs": []
    },
    {
      "cell_type": "code",
      "metadata": {
        "colab": {
          "base_uri": "https://localhost:8080/",
          "height": 195
        },
        "id": "-8-34--O4-5u",
        "outputId": "8ab51f04-bf04-4f1b-b21b-f363c2134eaa"
      },
      "source": [
        "train_1.tail()"
      ],
      "execution_count": null,
      "outputs": [
        {
          "output_type": "execute_result",
          "data": {
            "text/html": [
              "<div>\n",
              "<style scoped>\n",
              "    .dataframe tbody tr th:only-of-type {\n",
              "        vertical-align: middle;\n",
              "    }\n",
              "\n",
              "    .dataframe tbody tr th {\n",
              "        vertical-align: top;\n",
              "    }\n",
              "\n",
              "    .dataframe thead th {\n",
              "        text-align: right;\n",
              "    }\n",
              "</style>\n",
              "<table border=\"1\" class=\"dataframe\">\n",
              "  <thead>\n",
              "    <tr style=\"text-align: right;\">\n",
              "      <th></th>\n",
              "      <th>tweet</th>\n",
              "      <th>label</th>\n",
              "    </tr>\n",
              "  </thead>\n",
              "  <tbody>\n",
              "    <tr>\n",
              "      <th>159566</th>\n",
              "      <td>\":::::And for the second time of asking, when ...</td>\n",
              "      <td>0</td>\n",
              "    </tr>\n",
              "    <tr>\n",
              "      <th>159567</th>\n",
              "      <td>You should be ashamed of yourself \\r\\n\\r\\nThat...</td>\n",
              "      <td>0</td>\n",
              "    </tr>\n",
              "    <tr>\n",
              "      <th>159568</th>\n",
              "      <td>Spitzer \\r\\n\\r\\nUmm, theres no actual article ...</td>\n",
              "      <td>0</td>\n",
              "    </tr>\n",
              "    <tr>\n",
              "      <th>159569</th>\n",
              "      <td>And it looks like it was actually you who put ...</td>\n",
              "      <td>0</td>\n",
              "    </tr>\n",
              "    <tr>\n",
              "      <th>159570</th>\n",
              "      <td>\"\\r\\nAnd ... I really don't think you understa...</td>\n",
              "      <td>0</td>\n",
              "    </tr>\n",
              "  </tbody>\n",
              "</table>\n",
              "</div>"
            ],
            "text/plain": [
              "                                                    tweet  label\n",
              "159566  \":::::And for the second time of asking, when ...      0\n",
              "159567  You should be ashamed of yourself \\r\\n\\r\\nThat...      0\n",
              "159568  Spitzer \\r\\n\\r\\nUmm, theres no actual article ...      0\n",
              "159569  And it looks like it was actually you who put ...      0\n",
              "159570  \"\\r\\nAnd ... I really don't think you understa...      0"
            ]
          },
          "metadata": {
            "tags": []
          },
          "execution_count": 102
        }
      ]
    },
    {
      "cell_type": "code",
      "metadata": {
        "id": "M-ThmGOxq4_2"
      },
      "source": [
        "#balance = pd.read_csv(\"/content/drive/MyDrive/Minor Project 2/labeled_data.csv\")"
      ],
      "execution_count": null,
      "outputs": []
    },
    {
      "cell_type": "code",
      "metadata": {
        "id": "QxykvhxUrBJC"
      },
      "source": [
        "#balance['label'] = 1"
      ],
      "execution_count": null,
      "outputs": []
    },
    {
      "cell_type": "code",
      "metadata": {
        "id": "Rx2YlFKNBtFS"
      },
      "source": [
        "#balance = pd.DataFrame(balance[['label',\"tweet\"]])"
      ],
      "execution_count": null,
      "outputs": []
    },
    {
      "cell_type": "code",
      "metadata": {
        "id": "vXYX9lVM_Mpr"
      },
      "source": [
        "#balance.head()"
      ],
      "execution_count": null,
      "outputs": []
    },
    {
      "cell_type": "code",
      "metadata": {
        "id": "VjNHVHw6CJ1x"
      },
      "source": [
        "#train = [train_1, balance]\n",
        "#train = pd.concat(train)"
      ],
      "execution_count": null,
      "outputs": []
    },
    {
      "cell_type": "code",
      "metadata": {
        "id": "8ZXnL8OpC_wa"
      },
      "source": [
        "train = shuffle(train_1)\n",
        "train = train.reset_index(drop=True)"
      ],
      "execution_count": null,
      "outputs": []
    },
    {
      "cell_type": "code",
      "metadata": {
        "colab": {
          "base_uri": "https://localhost:8080/",
          "height": 195
        },
        "id": "6OHCi1MjC8T-",
        "outputId": "8be2be78-5e53-4c1f-b541-ec1f4d7e1ed8"
      },
      "source": [
        "train.head()"
      ],
      "execution_count": null,
      "outputs": [
        {
          "output_type": "execute_result",
          "data": {
            "text/html": [
              "<div>\n",
              "<style scoped>\n",
              "    .dataframe tbody tr th:only-of-type {\n",
              "        vertical-align: middle;\n",
              "    }\n",
              "\n",
              "    .dataframe tbody tr th {\n",
              "        vertical-align: top;\n",
              "    }\n",
              "\n",
              "    .dataframe thead th {\n",
              "        text-align: right;\n",
              "    }\n",
              "</style>\n",
              "<table border=\"1\" class=\"dataframe\">\n",
              "  <thead>\n",
              "    <tr style=\"text-align: right;\">\n",
              "      <th></th>\n",
              "      <th>tweet</th>\n",
              "      <th>label</th>\n",
              "    </tr>\n",
              "  </thead>\n",
              "  <tbody>\n",
              "    <tr>\n",
              "      <th>0</th>\n",
              "      <td>I just thought it would take more than seven d...</td>\n",
              "      <td>0</td>\n",
              "    </tr>\n",
              "    <tr>\n",
              "      <th>1</th>\n",
              "      <td>\"\\r\\n Proposed deletion of Vitaly Rudakovskiy ...</td>\n",
              "      <td>0</td>\n",
              "    </tr>\n",
              "    <tr>\n",
              "      <th>2</th>\n",
              "      <td>Toy soldiers? That made NO sense but okay budd...</td>\n",
              "      <td>0</td>\n",
              "    </tr>\n",
              "    <tr>\n",
              "      <th>3</th>\n",
              "      <td>\"\\r\\n\\r\\nSlash &amp; Friends label\\r\\nAccording to...</td>\n",
              "      <td>0</td>\n",
              "    </tr>\n",
              "    <tr>\n",
              "      <th>4</th>\n",
              "      <td>Sacred Name Movement Vandalism \\r\\n\\r\\nLast ye...</td>\n",
              "      <td>0</td>\n",
              "    </tr>\n",
              "  </tbody>\n",
              "</table>\n",
              "</div>"
            ],
            "text/plain": [
              "                                               tweet  label\n",
              "0  I just thought it would take more than seven d...      0\n",
              "1  \"\\r\\n Proposed deletion of Vitaly Rudakovskiy ...      0\n",
              "2  Toy soldiers? That made NO sense but okay budd...      0\n",
              "3  \"\\r\\n\\r\\nSlash & Friends label\\r\\nAccording to...      0\n",
              "4  Sacred Name Movement Vandalism \\r\\n\\r\\nLast ye...      0"
            ]
          },
          "metadata": {
            "tags": []
          },
          "execution_count": 109
        }
      ]
    },
    {
      "cell_type": "code",
      "metadata": {
        "colab": {
          "base_uri": "https://localhost:8080/",
          "height": 195
        },
        "id": "ITQnTd74_opz",
        "outputId": "911dda1d-18e9-40be-ecd9-af0ad86213a2"
      },
      "source": [
        "train.tail()"
      ],
      "execution_count": null,
      "outputs": [
        {
          "output_type": "execute_result",
          "data": {
            "text/html": [
              "<div>\n",
              "<style scoped>\n",
              "    .dataframe tbody tr th:only-of-type {\n",
              "        vertical-align: middle;\n",
              "    }\n",
              "\n",
              "    .dataframe tbody tr th {\n",
              "        vertical-align: top;\n",
              "    }\n",
              "\n",
              "    .dataframe thead th {\n",
              "        text-align: right;\n",
              "    }\n",
              "</style>\n",
              "<table border=\"1\" class=\"dataframe\">\n",
              "  <thead>\n",
              "    <tr style=\"text-align: right;\">\n",
              "      <th></th>\n",
              "      <th>tweet</th>\n",
              "      <th>label</th>\n",
              "    </tr>\n",
              "  </thead>\n",
              "  <tbody>\n",
              "    <tr>\n",
              "      <th>159566</th>\n",
              "      <td>And the fact of the matter is as simple as cri...</td>\n",
              "      <td>0</td>\n",
              "    </tr>\n",
              "    <tr>\n",
              "      <th>159567</th>\n",
              "      <td>\"\\r\\nReally ? How about\\r\\n\\r\\nSourcing should...</td>\n",
              "      <td>0</td>\n",
              "    </tr>\n",
              "    <tr>\n",
              "      <th>159568</th>\n",
              "      <td>\"And about Metzenberger and Homo SApiens, were...</td>\n",
              "      <td>0</td>\n",
              "    </tr>\n",
              "    <tr>\n",
              "      <th>159569</th>\n",
              "      <td>I'm certain Mr. Garrison would agree 100%</td>\n",
              "      <td>0</td>\n",
              "    </tr>\n",
              "    <tr>\n",
              "      <th>159570</th>\n",
              "      <td>If you check http://en.wikipedia.org/wiki/CeCe...</td>\n",
              "      <td>0</td>\n",
              "    </tr>\n",
              "  </tbody>\n",
              "</table>\n",
              "</div>"
            ],
            "text/plain": [
              "                                                    tweet  label\n",
              "159566  And the fact of the matter is as simple as cri...      0\n",
              "159567  \"\\r\\nReally ? How about\\r\\n\\r\\nSourcing should...      0\n",
              "159568  \"And about Metzenberger and Homo SApiens, were...      0\n",
              "159569          I'm certain Mr. Garrison would agree 100%      0\n",
              "159570  If you check http://en.wikipedia.org/wiki/CeCe...      0"
            ]
          },
          "metadata": {
            "tags": []
          },
          "execution_count": 110
        }
      ]
    },
    {
      "cell_type": "code",
      "metadata": {
        "colab": {
          "base_uri": "https://localhost:8080/",
          "height": 315
        },
        "id": "xS77GIX9z_-d",
        "outputId": "d2747592-0234-4e4d-eeb1-ac2548ae8185"
      },
      "source": [
        "plt.pie(labels=['positive','negative'],x=train['label'].value_counts())"
      ],
      "execution_count": null,
      "outputs": [
        {
          "output_type": "execute_result",
          "data": {
            "text/plain": [
              "([<matplotlib.patches.Wedge at 0x7f0dc8495ed0>,\n",
              "  <matplotlib.patches.Wedge at 0x7f0dc84233d0>],\n",
              " [Text(-1.0505104875484585, 0.32623260957589806, 'positive'),\n",
              "  Text(1.0505104646403798, -0.32623268334281524, 'negative')])"
            ]
          },
          "metadata": {
            "tags": []
          },
          "execution_count": 111
        },
        {
          "output_type": "display_data",
          "data": {
            "image/png": "[encoded data removed]",
            "text/plain": [
              "<Figure size 432x288 with 1 Axes>"
            ]
          },
          "metadata": {
            "tags": []
          }
        }
      ]
    },
    {
      "cell_type": "code",
      "metadata": {
        "colab": {
          "base_uri": "https://localhost:8080/",
          "height": 282
        },
        "id": "iHCYKP8RSjVM",
        "outputId": "de9b9d56-eb9d-4021-d4e1-723c4510c6bd"
      },
      "source": [
        "plt.bar(['positive','negative'],train['label'].value_counts())"
      ],
      "execution_count": null,
      "outputs": [
        {
          "output_type": "execute_result",
          "data": {
            "text/plain": [
              "<BarContainer object of 2 artists>"
            ]
          },
          "metadata": {
            "tags": []
          },
          "execution_count": 112
        },
        {
          "output_type": "display_data",
          "data": {
            "image/png": "[encoded data removed]",
            "text/plain": [
              "<Figure size 432x288 with 1 Axes>"
            ]
          },
          "metadata": {
            "tags": [],
            "needs_background": "light"
          }
        }
      ]
    },
    {
      "cell_type": "code",
      "metadata": {
        "colab": {
          "base_uri": "https://localhost:8080/",
          "height": 195
        },
        "id": "Be6kUnGMV333",
        "outputId": "dedee32f-fd9d-4e01-a474-c8e9879da28f"
      },
      "source": [
        "train.head(5)"
      ],
      "execution_count": null,
      "outputs": [
        {
          "output_type": "execute_result",
          "data": {
            "text/html": [
              "<div>\n",
              "<style scoped>\n",
              "    .dataframe tbody tr th:only-of-type {\n",
              "        vertical-align: middle;\n",
              "    }\n",
              "\n",
              "    .dataframe tbody tr th {\n",
              "        vertical-align: top;\n",
              "    }\n",
              "\n",
              "    .dataframe thead th {\n",
              "        text-align: right;\n",
              "    }\n",
              "</style>\n",
              "<table border=\"1\" class=\"dataframe\">\n",
              "  <thead>\n",
              "    <tr style=\"text-align: right;\">\n",
              "      <th></th>\n",
              "      <th>tweet</th>\n",
              "      <th>label</th>\n",
              "    </tr>\n",
              "  </thead>\n",
              "  <tbody>\n",
              "    <tr>\n",
              "      <th>0</th>\n",
              "      <td>I just thought it would take more than seven d...</td>\n",
              "      <td>0</td>\n",
              "    </tr>\n",
              "    <tr>\n",
              "      <th>1</th>\n",
              "      <td>\"\\r\\n Proposed deletion of Vitaly Rudakovskiy ...</td>\n",
              "      <td>0</td>\n",
              "    </tr>\n",
              "    <tr>\n",
              "      <th>2</th>\n",
              "      <td>Toy soldiers? That made NO sense but okay budd...</td>\n",
              "      <td>0</td>\n",
              "    </tr>\n",
              "    <tr>\n",
              "      <th>3</th>\n",
              "      <td>\"\\r\\n\\r\\nSlash &amp; Friends label\\r\\nAccording to...</td>\n",
              "      <td>0</td>\n",
              "    </tr>\n",
              "    <tr>\n",
              "      <th>4</th>\n",
              "      <td>Sacred Name Movement Vandalism \\r\\n\\r\\nLast ye...</td>\n",
              "      <td>0</td>\n",
              "    </tr>\n",
              "  </tbody>\n",
              "</table>\n",
              "</div>"
            ],
            "text/plain": [
              "                                               tweet  label\n",
              "0  I just thought it would take more than seven d...      0\n",
              "1  \"\\r\\n Proposed deletion of Vitaly Rudakovskiy ...      0\n",
              "2  Toy soldiers? That made NO sense but okay budd...      0\n",
              "3  \"\\r\\n\\r\\nSlash & Friends label\\r\\nAccording to...      0\n",
              "4  Sacred Name Movement Vandalism \\r\\n\\r\\nLast ye...      0"
            ]
          },
          "metadata": {
            "tags": []
          },
          "execution_count": 113
        }
      ]
    },
    {
      "cell_type": "code",
      "metadata": {
        "colab": {
          "base_uri": "https://localhost:8080/"
        },
        "id": "-9dn5dT1Ujfn",
        "outputId": "074c9e9b-11ef-4918-bbd8-d5622f07ab00"
      },
      "source": [
        "train.columns"
      ],
      "execution_count": null,
      "outputs": [
        {
          "output_type": "execute_result",
          "data": {
            "text/plain": [
              "Index(['tweet', 'label'], dtype='object')"
            ]
          },
          "metadata": {
            "tags": []
          },
          "execution_count": 114
        }
      ]
    },
    {
      "cell_type": "code",
      "metadata": {
        "id": "Sx3LwL820sCv",
        "colab": {
          "base_uri": "https://localhost:8080/",
          "height": 282
        },
        "outputId": "45e8c32e-81cd-4fb0-9491-5574c4981804"
      },
      "source": [
        "train['label'].hist()"
      ],
      "execution_count": null,
      "outputs": [
        {
          "output_type": "execute_result",
          "data": {
            "text/plain": [
              "<matplotlib.axes._subplots.AxesSubplot at 0x7f0dc847d390>"
            ]
          },
          "metadata": {
            "tags": []
          },
          "execution_count": 115
        },
        {
          "output_type": "display_data",
          "data": {
            "image/png": "[encoded data removed]",
            "text/plain": [
              "<Figure size 432x288 with 1 Axes>"
            ]
          },
          "metadata": {
            "tags": [],
            "needs_background": "light"
          }
        }
      ]
    },
    {
      "cell_type": "code",
      "metadata": {
        "colab": {
          "base_uri": "https://localhost:8080/"
        },
        "id": "1rfIxVradVLs",
        "outputId": "611147cf-12cd-4b73-c4be-8b2650700614"
      },
      "source": [
        "train['label'].value_counts()"
      ],
      "execution_count": null,
      "outputs": [
        {
          "output_type": "execute_result",
          "data": {
            "text/plain": [
              "0    144277\n",
              "1     15294\n",
              "Name: label, dtype: int64"
            ]
          },
          "metadata": {
            "tags": []
          },
          "execution_count": 116
        }
      ]
    },
    {
      "cell_type": "code",
      "metadata": {
        "id": "F4mQS1aXOeFE"
      },
      "source": [
        "temp = train[train['label']==1]"
      ],
      "execution_count": null,
      "outputs": []
    },
    {
      "cell_type": "code",
      "metadata": {
        "id": "_pNmLEA2QqxP"
      },
      "source": [
        "train = [train, temp]\n",
        "train = pd.concat(train)\n",
        "train = shuffle(train)\n",
        "train = train.reset_index(drop=True)"
      ],
      "execution_count": null,
      "outputs": []
    },
    {
      "cell_type": "code",
      "metadata": {
        "colab": {
          "base_uri": "https://localhost:8080/"
        },
        "id": "nEakIl7GRAHI",
        "outputId": "67e45021-bb50-43a9-d6e6-0a2ea4658ed9"
      },
      "source": [
        "train['label'].value_counts()"
      ],
      "execution_count": null,
      "outputs": [
        {
          "output_type": "execute_result",
          "data": {
            "text/plain": [
              "0    144277\n",
              "1     30588\n",
              "Name: label, dtype: int64"
            ]
          },
          "metadata": {
            "tags": []
          },
          "execution_count": 119
        }
      ]
    },
    {
      "cell_type": "code",
      "metadata": {
        "colab": {
          "base_uri": "https://localhost:8080/",
          "height": 195
        },
        "id": "P0oYxF5qRdyf",
        "outputId": "137c488c-fea2-419c-eee2-fd20120bf658"
      },
      "source": [
        "train.head()"
      ],
      "execution_count": null,
      "outputs": [
        {
          "output_type": "execute_result",
          "data": {
            "text/html": [
              "<div>\n",
              "<style scoped>\n",
              "    .dataframe tbody tr th:only-of-type {\n",
              "        vertical-align: middle;\n",
              "    }\n",
              "\n",
              "    .dataframe tbody tr th {\n",
              "        vertical-align: top;\n",
              "    }\n",
              "\n",
              "    .dataframe thead th {\n",
              "        text-align: right;\n",
              "    }\n",
              "</style>\n",
              "<table border=\"1\" class=\"dataframe\">\n",
              "  <thead>\n",
              "    <tr style=\"text-align: right;\">\n",
              "      <th></th>\n",
              "      <th>tweet</th>\n",
              "      <th>label</th>\n",
              "    </tr>\n",
              "  </thead>\n",
              "  <tbody>\n",
              "    <tr>\n",
              "      <th>0</th>\n",
              "      <td>Wikipedia:Manual of Style (capital letters)#Mi...</td>\n",
              "      <td>0</td>\n",
              "    </tr>\n",
              "    <tr>\n",
              "      <th>1</th>\n",
              "      <td>{{unblock}}LIFETIME BAN LIFETIME BAN I WANTA F...</td>\n",
              "      <td>1</td>\n",
              "    </tr>\n",
              "    <tr>\n",
              "      <th>2</th>\n",
              "      <td>Welcome!\\r\\n\\r\\nHello, Bdispenza, and welcome ...</td>\n",
              "      <td>0</td>\n",
              "    </tr>\n",
              "    <tr>\n",
              "      <th>3</th>\n",
              "      <td>Provide professional critics' reviews</td>\n",
              "      <td>0</td>\n",
              "    </tr>\n",
              "    <tr>\n",
              "      <th>4</th>\n",
              "      <td>\"\\r\\n\\r\\nProblem\\r\\n\\r\\nThis guy: http://en.wi...</td>\n",
              "      <td>0</td>\n",
              "    </tr>\n",
              "  </tbody>\n",
              "</table>\n",
              "</div>"
            ],
            "text/plain": [
              "                                               tweet  label\n",
              "0  Wikipedia:Manual of Style (capital letters)#Mi...      0\n",
              "1  {{unblock}}LIFETIME BAN LIFETIME BAN I WANTA F...      1\n",
              "2  Welcome!\\r\\n\\r\\nHello, Bdispenza, and welcome ...      0\n",
              "3              Provide professional critics' reviews      0\n",
              "4  \"\\r\\n\\r\\nProblem\\r\\n\\r\\nThis guy: http://en.wi...      0"
            ]
          },
          "metadata": {
            "tags": []
          },
          "execution_count": 120
        }
      ]
    },
    {
      "cell_type": "code",
      "metadata": {
        "colab": {
          "base_uri": "https://localhost:8080/"
        },
        "id": "aRJBJJbGHN0a",
        "outputId": "6da527f1-e742-4e51-95ef-610f25f807b1"
      },
      "source": [
        "nltk.download('stopwords')\n",
        "nltk.download('wordnet')\n",
        "nltk.download('punkt')"
      ],
      "execution_count": null,
      "outputs": [
        {
          "output_type": "stream",
          "text": [
            "[nltk_data] Downloading package stopwords to /root/nltk_data...\n",
            "[nltk_data]   Package stopwords is already up-to-date!\n",
            "[nltk_data] Downloading package wordnet to /root/nltk_data...\n",
            "[nltk_data]   Package wordnet is already up-to-date!\n",
            "[nltk_data] Downloading package punkt to /root/nltk_data...\n",
            "[nltk_data]   Package punkt is already up-to-date!\n"
          ],
          "name": "stdout"
        },
        {
          "output_type": "execute_result",
          "data": {
            "text/plain": [
              "True"
            ]
          },
          "metadata": {
            "tags": []
          },
          "execution_count": 121
        }
      ]
    },
    {
      "cell_type": "code",
      "metadata": {
        "id": "7i2AuVY7E8SN"
      },
      "source": [
        "# Storing stopwords of english language from nltk library\n",
        "sw = set(stopwords.words(\"english\"))\n",
        "\n",
        "# remove stop words\n",
        "def filter_words(word_list):\n",
        "    useful_words = [ w for w in word_list if w not in sw ]\n",
        "    return(useful_words)\n",
        "\n",
        "def preprocess_data(dataset):\n",
        "    data = dataset.copy()\n",
        "    t = []\n",
        "    for i in data['tweet']:\n",
        "        sentence = str(i)\n",
        "        sentence = sentence.lower()\n",
        "        sentence = re.sub(r'@\\w+ | http | #\\w+', '', sentence)\n",
        "        t.append(sentence)\n",
        "\n",
        "    data['cleaned'] = t\n",
        "    #Removing punctuations, special characters and lemmatizing words to their base form\n",
        "    data['text_lem'] = [''.join([WordNetLemmatizer().lemmatize(re.sub('[^A-Za-z]',' ',text)) for text in lis]) for lis in data['cleaned']]\n",
        "    \n",
        "    a=[]\n",
        "    for text in data['text_lem']:\n",
        "        word_list = word_tokenize(text)\n",
        "        text=filter_words(word_list)\n",
        "        a.append(text)  \n",
        "    \n",
        "    train_text = []\n",
        "    for i in a:\n",
        "      train_text.append(' '.join(i))\n",
        "\n",
        "    data['cleaned_tweets'] = train_text\n",
        "    return data"
      ],
      "execution_count": null,
      "outputs": []
    },
    {
      "cell_type": "code",
      "metadata": {
        "id": "plrq5aPWMZc_"
      },
      "source": [
        "temp = preprocess_data(train)"
      ],
      "execution_count": null,
      "outputs": []
    },
    {
      "cell_type": "code",
      "metadata": {
        "colab": {
          "base_uri": "https://localhost:8080/"
        },
        "id": "dsWI5M7-Ti6e",
        "outputId": "2be42290-af9a-4799-919e-d0bede1ea34d"
      },
      "source": [
        "temp[temp['cleaned_tweets'].str.split().str.len()<2]['label'].value_counts()"
      ],
      "execution_count": null,
      "outputs": [
        {
          "output_type": "execute_result",
          "data": {
            "text/plain": [
              "0    791\n",
              "1    130\n",
              "Name: label, dtype: int64"
            ]
          },
          "metadata": {
            "tags": []
          },
          "execution_count": 154
        }
      ]
    },
    {
      "cell_type": "code",
      "metadata": {
        "colab": {
          "base_uri": "https://localhost:8080/"
        },
        "id": "rVpw_SfuTucH",
        "outputId": "07605075-1b1f-49de-9388-8865928444f2"
      },
      "source": [
        "temp[temp['cleaned_tweets'].str.split().str.len()>40]['label'].value_counts()"
      ],
      "execution_count": null,
      "outputs": [
        {
          "output_type": "execute_result",
          "data": {
            "text/plain": [
              "0    34891\n",
              "1     4102\n",
              "Name: label, dtype: int64"
            ]
          },
          "metadata": {
            "tags": []
          },
          "execution_count": 155
        }
      ]
    },
    {
      "cell_type": "code",
      "metadata": {
        "colab": {
          "base_uri": "https://localhost:8080/"
        },
        "id": "oG8ceQG7Utti",
        "outputId": "22e1bb03-9e6f-4ac5-e285-c53d1daea646"
      },
      "source": [
        "temp['label'].value_counts()"
      ],
      "execution_count": null,
      "outputs": [
        {
          "output_type": "execute_result",
          "data": {
            "text/plain": [
              "0    144277\n",
              "1     30588\n",
              "Name: label, dtype: int64"
            ]
          },
          "metadata": {
            "tags": []
          },
          "execution_count": 156
        }
      ]
    },
    {
      "cell_type": "code",
      "metadata": {
        "colab": {
          "base_uri": "https://localhost:8080/"
        },
        "id": "YD5-yRh6Uhs2",
        "outputId": "8b7f98d5-41d4-4b64-e9f0-59ecc1c63e55"
      },
      "source": [
        "temp.shape"
      ],
      "execution_count": null,
      "outputs": [
        {
          "output_type": "execute_result",
          "data": {
            "text/plain": [
              "(174865, 5)"
            ]
          },
          "metadata": {
            "tags": []
          },
          "execution_count": 157
        }
      ]
    },
    {
      "cell_type": "code",
      "metadata": {
        "id": "yeAAzGwvN8Bn"
      },
      "source": [
        "temp = temp[temp['cleaned_tweets'].str.split().str.len()>=2]\n",
        "temp = temp[temp['cleaned_tweets'].str.split().str.len()<=40]"
      ],
      "execution_count": null,
      "outputs": []
    },
    {
      "cell_type": "code",
      "metadata": {
        "colab": {
          "base_uri": "https://localhost:8080/"
        },
        "id": "AnejQAR0U5nj",
        "outputId": "ab70b5be-9b75-4793-f2b8-3fe022f69076"
      },
      "source": [
        "temp.shape"
      ],
      "execution_count": null,
      "outputs": [
        {
          "output_type": "execute_result",
          "data": {
            "text/plain": [
              "(134951, 5)"
            ]
          },
          "metadata": {
            "tags": []
          },
          "execution_count": 159
        }
      ]
    },
    {
      "cell_type": "code",
      "metadata": {
        "colab": {
          "base_uri": "https://localhost:8080/"
        },
        "id": "_vVgMHmfU9hr",
        "outputId": "2b53c93c-8608-4035-afec-d9df454630de"
      },
      "source": [
        "temp['label'].value_counts()"
      ],
      "execution_count": null,
      "outputs": [
        {
          "output_type": "execute_result",
          "data": {
            "text/plain": [
              "0    108595\n",
              "1     26356\n",
              "Name: label, dtype: int64"
            ]
          },
          "metadata": {
            "tags": []
          },
          "execution_count": 160
        }
      ]
    },
    {
      "cell_type": "code",
      "metadata": {
        "colab": {
          "base_uri": "https://localhost:8080/",
          "height": 262
        },
        "id": "g0i98-NLV8zM",
        "outputId": "c62c780e-18f4-4aaf-e2bb-ab76dbc5d48c"
      },
      "source": [
        "temp.head()"
      ],
      "execution_count": null,
      "outputs": [
        {
          "output_type": "execute_result",
          "data": {
            "text/html": [
              "<div>\n",
              "<style scoped>\n",
              "    .dataframe tbody tr th:only-of-type {\n",
              "        vertical-align: middle;\n",
              "    }\n",
              "\n",
              "    .dataframe tbody tr th {\n",
              "        vertical-align: top;\n",
              "    }\n",
              "\n",
              "    .dataframe thead th {\n",
              "        text-align: right;\n",
              "    }\n",
              "</style>\n",
              "<table border=\"1\" class=\"dataframe\">\n",
              "  <thead>\n",
              "    <tr style=\"text-align: right;\">\n",
              "      <th></th>\n",
              "      <th>tweet</th>\n",
              "      <th>label</th>\n",
              "      <th>cleaned</th>\n",
              "      <th>text_lem</th>\n",
              "      <th>cleaned_tweets</th>\n",
              "    </tr>\n",
              "  </thead>\n",
              "  <tbody>\n",
              "    <tr>\n",
              "      <th>0</th>\n",
              "      <td>Wikipedia:Manual of Style (capital letters)#Mi...</td>\n",
              "      <td>0</td>\n",
              "      <td>wikipedia:manual of style (capital letters)#mi...</td>\n",
              "      <td>wikipedia manual of style  capital letters  mi...</td>\n",
              "      <td>wikipedia manual style capital letters militar...</td>\n",
              "    </tr>\n",
              "    <tr>\n",
              "      <th>3</th>\n",
              "      <td>Provide professional critics' reviews</td>\n",
              "      <td>0</td>\n",
              "      <td>provide professional critics' reviews</td>\n",
              "      <td>provide professional critics  reviews</td>\n",
              "      <td>provide professional critics reviews</td>\n",
              "    </tr>\n",
              "    <tr>\n",
              "      <th>4</th>\n",
              "      <td>\"\\r\\n\\r\\nProblem\\r\\n\\r\\nThis guy: http://en.wi...</td>\n",
              "      <td>0</td>\n",
              "      <td>\"\\r\\n\\r\\nproblem\\r\\n\\r\\nthis guy: http://en.wi...</td>\n",
              "      <td>problem    this guy  http   en wikipedia ...</td>\n",
              "      <td>problem guy http en wikipedia org wiki user al...</td>\n",
              "    </tr>\n",
              "    <tr>\n",
              "      <th>6</th>\n",
              "      <td>if i remember right, this band went through at...</td>\n",
              "      <td>0</td>\n",
              "      <td>if i remember right, this band went through at...</td>\n",
              "      <td>if i remember right  this band went through at...</td>\n",
              "      <td>remember right band went least two singers</td>\n",
              "    </tr>\n",
              "    <tr>\n",
              "      <th>8</th>\n",
              "      <td>\"\\r\\nThere is no hard minimum for the userrigh...</td>\n",
              "      <td>0</td>\n",
              "      <td>\"\\r\\nthere is no hard minimum for the userrigh...</td>\n",
              "      <td>there is no hard minimum for the userright ...</td>\n",
              "      <td>hard minimum userright users generally must ex...</td>\n",
              "    </tr>\n",
              "  </tbody>\n",
              "</table>\n",
              "</div>"
            ],
            "text/plain": [
              "                                               tweet  ...                                     cleaned_tweets\n",
              "0  Wikipedia:Manual of Style (capital letters)#Mi...  ...  wikipedia manual style capital letters militar...\n",
              "3              Provide professional critics' reviews  ...               provide professional critics reviews\n",
              "4  \"\\r\\n\\r\\nProblem\\r\\n\\r\\nThis guy: http://en.wi...  ...  problem guy http en wikipedia org wiki user al...\n",
              "6  if i remember right, this band went through at...  ...         remember right band went least two singers\n",
              "8  \"\\r\\nThere is no hard minimum for the userrigh...  ...  hard minimum userright users generally must ex...\n",
              "\n",
              "[5 rows x 5 columns]"
            ]
          },
          "metadata": {
            "tags": []
          },
          "execution_count": 161
        }
      ]
    },
    {
      "cell_type": "code",
      "metadata": {
        "colab": {
          "base_uri": "https://localhost:8080/"
        },
        "id": "NiGfzkWxoCse",
        "outputId": "b6f07f92-ed51-42de-82eb-940f8bc0a924"
      },
      "source": [
        "temp.shape"
      ],
      "execution_count": null,
      "outputs": [
        {
          "output_type": "execute_result",
          "data": {
            "text/plain": [
              "(134951, 5)"
            ]
          },
          "metadata": {
            "tags": []
          },
          "execution_count": 162
        }
      ]
    },
    {
      "cell_type": "code",
      "metadata": {
        "id": "lf4qBu1QXlcX"
      },
      "source": [
        ""
      ],
      "execution_count": null,
      "outputs": []
    },
    {
      "cell_type": "code",
      "metadata": {
        "id": "IcGrRpafwd_V"
      },
      "source": [
        "x_train = temp['cleaned_tweets'].values\n",
        "y_train = temp['label'].values"
      ],
      "execution_count": null,
      "outputs": []
    },
    {
      "cell_type": "code",
      "metadata": {
        "colab": {
          "base_uri": "https://localhost:8080/"
        },
        "id": "FzMApa5MWDbP",
        "outputId": "ce22dbf1-a200-4e03-8e92-663c9d03738c"
      },
      "source": [
        "x_train.shape"
      ],
      "execution_count": null,
      "outputs": [
        {
          "output_type": "execute_result",
          "data": {
            "text/plain": [
              "(134951,)"
            ]
          },
          "metadata": {
            "tags": []
          },
          "execution_count": 164
        }
      ]
    },
    {
      "cell_type": "code",
      "metadata": {
        "colab": {
          "base_uri": "https://localhost:8080/"
        },
        "id": "NaqWzCA7WFhq",
        "outputId": "2f4954a3-a289-41b1-e5be-615d8bacd86c"
      },
      "source": [
        "y_train.shape"
      ],
      "execution_count": null,
      "outputs": [
        {
          "output_type": "execute_result",
          "data": {
            "text/plain": [
              "(134951,)"
            ]
          },
          "metadata": {
            "tags": []
          },
          "execution_count": 165
        }
      ]
    },
    {
      "cell_type": "code",
      "metadata": {
        "colab": {
          "base_uri": "https://localhost:8080/"
        },
        "id": "JYB6hffgxQU1",
        "outputId": "9ac1c7d8-0afb-4b21-d7d8-46a84cf8259d"
      },
      "source": [
        "total_words = []\n",
        "\n",
        "for key in x_train:\n",
        "    [total_words.append(i) for i in key.split()]\n",
        "print(\"total Words %d\"%len(total_words))"
      ],
      "execution_count": null,
      "outputs": [
        {
          "output_type": "stream",
          "text": [
            "total Words 2052084\n"
          ],
          "name": "stdout"
        }
      ]
    },
    {
      "cell_type": "code",
      "metadata": {
        "id": "nsFzEcUhxv3m"
      },
      "source": [
        "freq = {}\n",
        "for i in total_words:\n",
        "    if freq.get(i) is None:\n",
        "        freq[i] = 0\n",
        "    freq[i]+=1"
      ],
      "execution_count": null,
      "outputs": []
    },
    {
      "cell_type": "code",
      "metadata": {
        "colab": {
          "base_uri": "https://localhost:8080/"
        },
        "id": "98kEZWRqyX3X",
        "outputId": "78bd0e91-5296-4bbc-be38-1e34dfee9b83"
      },
      "source": [
        "len(freq)"
      ],
      "execution_count": null,
      "outputs": [
        {
          "output_type": "execute_result",
          "data": {
            "text/plain": [
              "94935"
            ]
          },
          "metadata": {
            "tags": []
          },
          "execution_count": 168
        }
      ]
    },
    {
      "cell_type": "code",
      "metadata": {
        "id": "yX22fR1Dx_1S"
      },
      "source": [
        "sorted_frq_cnt = sorted(freq.items(),reverse=True,key = lambda x:x[1]) #we have to use lambda as if wont use it will sort accoding with words\n",
        "\n",
        "threshold = 10  #it is not fixed i have choosen to take 10 as if in 16,79,076 that word is coming only 10 times then it doesn't make any difference\n",
        "sorted_frq_cnt = [x for x in sorted_frq_cnt if x[1] > threshold]\n",
        "total_words = [x[0] for x in sorted_frq_cnt]"
      ],
      "execution_count": null,
      "outputs": []
    },
    {
      "cell_type": "code",
      "metadata": {
        "colab": {
          "base_uri": "https://localhost:8080/"
        },
        "id": "APnEpgV4yiHs",
        "outputId": "b137091f-a2c8-4fa3-df44-3e124e144aa3"
      },
      "source": [
        "print(len(total_words))"
      ],
      "execution_count": null,
      "outputs": [
        {
          "output_type": "stream",
          "text": [
            "12848\n"
          ],
          "name": "stdout"
        }
      ]
    },
    {
      "cell_type": "code",
      "metadata": {
        "colab": {
          "base_uri": "https://localhost:8080/"
        },
        "id": "PvrMt2DXBw7y",
        "outputId": "cfd74c96-912f-49ed-cbff-142cf144036a"
      },
      "source": [
        "print(x_train.shape)\n",
        "print(y_train.shape)"
      ],
      "execution_count": null,
      "outputs": [
        {
          "output_type": "stream",
          "text": [
            "(134951,)\n",
            "(134951,)\n"
          ],
          "name": "stdout"
        }
      ]
    },
    {
      "cell_type": "code",
      "metadata": {
        "colab": {
          "base_uri": "https://localhost:8080/"
        },
        "id": "BsfzhPwH2D-h",
        "outputId": "56603e0f-1249-48b6-dfd3-6af51a387678"
      },
      "source": [
        "max_len = 0\n",
        "skip = 0\n",
        "for i,cap in enumerate(x_train):\n",
        "    max_len = max(max_len,len(cap.split()))\n",
        "    if(len(cap.split()) >40):\n",
        "        skip += 1\n",
        "print(max_len)\n",
        "print(skip)"
      ],
      "execution_count": null,
      "outputs": [
        {
          "output_type": "stream",
          "text": [
            "40\n",
            "0\n"
          ],
          "name": "stdout"
        }
      ]
    },
    {
      "cell_type": "code",
      "metadata": {
        "colab": {
          "base_uri": "https://localhost:8080/"
        },
        "id": "n4-Ul34lB7QR",
        "outputId": "60db90d5-b1de-47f3-ad3a-415d4048a252"
      },
      "source": [
        "x_train_c = []\n",
        "y_train_c = []\n",
        "max_len = 0\n",
        "skip = 0\n",
        "for i,cap in enumerate(x_train):\n",
        "    max_len = max(max_len,len(cap.split()))\n",
        "    if(len(cap.split()) <=40):\n",
        "      x_train_c.append(cap)\n",
        "      y_train_c.append(y_train[i])\n",
        "      skip += 1\n",
        "print(max_len)\n",
        "print(skip)\n",
        "x_train_c = np.array(x_train_c)\n",
        "y_train_c = np.array(y_train_c)"
      ],
      "execution_count": null,
      "outputs": [
        {
          "output_type": "stream",
          "text": [
            "40\n",
            "134951\n"
          ],
          "name": "stdout"
        }
      ]
    },
    {
      "cell_type": "code",
      "metadata": {
        "colab": {
          "base_uri": "https://localhost:8080/"
        },
        "id": "em1OLSthCZQk",
        "outputId": "69f455dd-ff11-4cea-9831-b66f99a495d9"
      },
      "source": [
        "print(x_train_c.shape)\n",
        "print(y_train_c.shape)\n"
      ],
      "execution_count": null,
      "outputs": [
        {
          "output_type": "stream",
          "text": [
            "(134951,)\n",
            "(134951,)\n"
          ],
          "name": "stdout"
        }
      ]
    },
    {
      "cell_type": "code",
      "metadata": {
        "colab": {
          "base_uri": "https://localhost:8080/"
        },
        "id": "-1FmJ-ceC7Ro",
        "outputId": "bcb302ae-a2bb-4947-fb52-c4e29da3c74b"
      },
      "source": [
        "np.unique(y_train_c,return_counts=True)"
      ],
      "execution_count": null,
      "outputs": [
        {
          "output_type": "execute_result",
          "data": {
            "text/plain": [
              "(array([0, 1]), array([108595,  26356]))"
            ]
          },
          "metadata": {
            "tags": []
          },
          "execution_count": 181
        }
      ]
    },
    {
      "cell_type": "code",
      "metadata": {
        "id": "TvGbsw7OIs-e",
        "colab": {
          "base_uri": "https://localhost:8080/"
        },
        "outputId": "23956dc2-33c9-4d8b-ca5e-5764ac72d714"
      },
      "source": [
        "max_len = 0\n",
        "skip = 0\n",
        "for i,cap in enumerate(x_train_c):\n",
        "    max_len = max(max_len,len(cap.split()))\n",
        "    if(len(cap.split()) > 40):\n",
        "        skip+=1\n",
        "print(max_len)\n",
        "print(skip)"
      ],
      "execution_count": null,
      "outputs": [
        {
          "output_type": "stream",
          "text": [
            "40\n",
            "0\n"
          ],
          "name": "stdout"
        }
      ]
    },
    {
      "cell_type": "code",
      "metadata": {
        "colab": {
          "base_uri": "https://localhost:8080/"
        },
        "id": "60JX5Yl8n1cD",
        "outputId": "1ab8bab3-9088-4f26-e1ee-4a7531ebae6f"
      },
      "source": [
        "print(len(x_train_c))\n",
        "print(len(y_train_c))"
      ],
      "execution_count": null,
      "outputs": [
        {
          "output_type": "stream",
          "text": [
            "134951\n",
            "134951\n"
          ],
          "name": "stdout"
        }
      ]
    },
    {
      "cell_type": "code",
      "metadata": {
        "colab": {
          "base_uri": "https://localhost:8080/"
        },
        "id": "QBwG-YdTkyRC",
        "outputId": "a5e66edd-a541-4629-9a84-03cb777a7847"
      },
      "source": [
        "len(total_words)"
      ],
      "execution_count": null,
      "outputs": [
        {
          "output_type": "execute_result",
          "data": {
            "text/plain": [
              "12848"
            ]
          },
          "metadata": {
            "tags": []
          },
          "execution_count": 184
        }
      ]
    },
    {
      "cell_type": "code",
      "metadata": {
        "id": "4ImFvBuHk71V"
      },
      "source": [
        "word_to_idx = {}\n",
        "idx_to_word = {}\n",
        "\n",
        "for i,word in enumerate(total_words):\n",
        "    word_to_idx[word] = i+1\n",
        "    idx_to_word[i+1] = word"
      ],
      "execution_count": null,
      "outputs": []
    },
    {
      "cell_type": "code",
      "metadata": {
        "colab": {
          "base_uri": "https://localhost:8080/"
        },
        "id": "8zBA04R2lDh6",
        "outputId": "f41b24ca-b39a-45f3-d9bd-34c36555de01"
      },
      "source": [
        "print(len(idx_to_word))\n",
        "print(len(word_to_idx))"
      ],
      "execution_count": null,
      "outputs": [
        {
          "output_type": "stream",
          "text": [
            "12848\n",
            "12848\n"
          ],
          "name": "stdout"
        }
      ]
    },
    {
      "cell_type": "code",
      "metadata": {
        "colab": {
          "base_uri": "https://localhost:8080/",
          "height": 35
        },
        "id": "lDcUv7iwlVFF",
        "outputId": "422f0fb6-05e6-41d4-94e4-d984e3d23e18"
      },
      "source": [
        "idx_to_word[12848]"
      ],
      "execution_count": null,
      "outputs": [
        {
          "output_type": "execute_result",
          "data": {
            "application/vnd.google.colaboratory.intrinsic+json": {
              "type": "string"
            },
            "text/plain": [
              "'prasad'"
            ]
          },
          "metadata": {
            "tags": []
          },
          "execution_count": 187
        }
      ]
    },
    {
      "cell_type": "code",
      "metadata": {
        "colab": {
          "base_uri": "https://localhost:8080/"
        },
        "id": "v2IqBmp0lGV2",
        "outputId": "97839f5a-20ca-4610-e092-956234318df7"
      },
      "source": [
        "vocab_size = len(word_to_idx) + 1\n",
        "print(\"vocab size\",vocab_size)"
      ],
      "execution_count": null,
      "outputs": [
        {
          "output_type": "stream",
          "text": [
            "vocab size 12849\n"
          ],
          "name": "stdout"
        }
      ]
    },
    {
      "cell_type": "code",
      "metadata": {
        "id": "EaHPS0g-nQIq"
      },
      "source": [
        "with open(\"/content/drive/MyDrive/Minor Project 2/data files4/word_to_idx.pkl\",\"wb\") as w2i:\n",
        "    pickle.dump(word_to_idx,w2i)\n",
        "with open(\"/content/drive/MyDrive/Minor Project 2/data files4/idx_to_word.pkl\",\"wb\") as i2w:\n",
        "    pickle.dump(idx_to_word,i2w)\n",
        "with open(\"/content/drive/MyDrive/Minor Project 2/data files4/x_train.pkl\",\"wb\") as des:\n",
        "    pickle.dump(x_train_c,des)\n",
        "with open(\"/content/drive/MyDrive/Minor Project 2/data files4/y_train.pkl\",\"wb\") as tedes:\n",
        "    pickle.dump(y_train_c,tedes)"
      ],
      "execution_count": null,
      "outputs": []
    },
    {
      "cell_type": "code",
      "metadata": {
        "id": "E866RCepGmyF"
      },
      "source": [
        ""
      ],
      "execution_count": null,
      "outputs": []
    }
  ]
}